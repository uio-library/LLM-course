{
 "cells": [
  {
   "cell_type": "markdown",
   "id": "9edcd073-2af0-4e42-8351-3719b777815a",
   "metadata": {},
   "source": [
    "By default, the `pip` command installs Python modules or libraries in your user profile, in your *default* Python environment.\n",
    "If you use Python for different projects with different libraries, it might happen that your projects require different versions of *the same* library.\n",
    "Python supports switching between different versions of *the same* library with *virtual environments*.\n",
    "You can create a virtual environment for each of your projects.\n",
    "Then, you install all the libraries related to a particular project in the virtual environment for that project.\n",
    "The virtual environment is often stored in the project folder in a folder called `.venv`."
   ]
  },
  {
   "cell_type": "markdown",
   "id": "23269c84-60b5-454b-be06-6b22bad0e647",
   "metadata": {},
   "source": [
    "## Creating a virtual environment\n",
    "Let's create a virtual environment for running large language models.\n",
    "There are several ways of doing this, but we recommend using python's built-in `venv` command."
   ]
  },
  {
   "cell_type": "code",
   "execution_count": null,
   "id": "e73b571f-af2d-47f8-8c54-96e1a9902433",
   "metadata": {},
   "outputs": [],
   "source": [
    "!python -m venv .venv"
   ]
  },
  {
   "cell_type": "markdown",
   "id": "770723a8-54c9-4d59-9471-eb12e9c81c59",
   "metadata": {},
   "source": [
    "## Activating the environment\n",
    "To *activate* the virtual environment on the command prompt you can use an activation script:\n",
    "\n",
    "    source .venv/bin/activate\n"
   ]
  },
  {
   "cell_type": "markdown",
   "id": "5db66f20-4f3d-4109-bd13-f97233522c07",
   "metadata": {},
   "source": [
    "## JupyterLab kernel for the environment\n",
    "To use the virtual environment in JupyterLab, we must define a *kernel* for that environment."
   ]
  },
  {
   "cell_type": "code",
   "execution_count": null,
   "id": "68ee2c6d-a957-433e-8b81-3185f06295de",
   "metadata": {},
   "outputs": [],
   "source": [
    "! .venv/bin/python -m ipykernel install --user --name LLM --display-name \"Python (LLM)\""
   ]
  }
 ],
 "metadata": {
  "kernelspec": {
   "display_name": "Python (LLM)",
   "language": "python",
   "name": "llm"
  },
  "language_info": {
   "codemirror_mode": {
    "name": "ipython",
    "version": 3
   },
   "file_extension": ".py",
   "mimetype": "text/x-python",
   "name": "python",
   "nbconvert_exporter": "python",
   "pygments_lexer": "ipython3",
   "version": "3.11.5"
  }
 },
 "nbformat": 4,
 "nbformat_minor": 5
}
