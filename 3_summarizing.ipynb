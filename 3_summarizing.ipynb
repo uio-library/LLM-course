{
 "cells": [
  {
   "cell_type": "markdown",
   "id": "f1b0f5c9-8070-44b8-b1ea-c0a337d373ce",
   "metadata": {
    "editable": true,
    "slideshow": {
     "slide_type": ""
    },
    "tags": []
   },
   "source": [
    "# Summarization\n",
    "\n",
    "We will use [LangChain](https://www.langchain.com/), an open-source library for making applications with LLMs.\n"
   ]
  },
  {
   "cell_type": "markdown",
   "id": "6d75d3df-17c0-4ff9-8659-36489f174b33",
   "metadata": {},
   "source": [
    "## Document location\n",
    "We will try to load  all the documents in the folder defined below.\n",
    "If you prefer, you can change this to a different folder name."
   ]
  },
  {
   "cell_type": "code",
   "execution_count": 1,
   "id": "2e62dd1c-6122-45c1-90b3-16badbf11313",
   "metadata": {},
   "outputs": [],
   "source": [
    "#document_folder = 'documents'\n",
    "document_folder = 'summarizing'"
   ]
  },
  {
   "cell_type": "markdown",
   "id": "ab8e02df-c8fc-4c67-8ba7-a4c96e2ee715",
   "metadata": {
    "editable": true,
    "slideshow": {
     "slide_type": ""
    },
    "tags": [
     "remove-cell"
    ]
   },
   "source": [
    "## Some configuration\n",
    "To conserve memory, we configure more efficient memory use on the GPU."
   ]
  },
  {
   "cell_type": "code",
   "execution_count": 2,
   "id": "989177f1-104c-4752-a293-fe13e0795cca",
   "metadata": {
    "editable": true,
    "slideshow": {
     "slide_type": ""
    },
    "tags": [
     "remove-cell"
    ]
   },
   "outputs": [],
   "source": [
    "import os\n",
    "os.environ[\"PYTORCH_CUDA_ALLOC_CONF\"] = \"expandable_segments:True\""
   ]
  },
  {
   "cell_type": "markdown",
   "id": "198a041d",
   "metadata": {},
   "source": [
    "## Installing Software\n",
    "We’ll need to install some libraries first:"
   ]
  },
  {
   "cell_type": "code",
   "execution_count": 3,
   "id": "f9908a60",
   "metadata": {
    "editable": true,
    "scrolled": true,
    "slideshow": {
     "slide_type": ""
    },
    "tags": [
     "remove-output"
    ]
   },
   "outputs": [
    {
     "name": "stdout",
     "output_type": "stream",
     "text": [
      "Defaulting to user installation because normal site-packages is not writeable\n",
      "Requirement already satisfied: pip in ./.local/lib/python3.11/site-packages (24.2)\n",
      "Requirement already satisfied: unstructured in ./.local/lib/python3.11/site-packages (0.16.2)\n",
      "Requirement already satisfied: sentence-transformers in ./.local/lib/python3.11/site-packages (3.2.1)\n",
      "Requirement already satisfied: huggingface-hub in ./.local/lib/python3.11/site-packages (0.26.1)\n",
      "Requirement already satisfied: sentencepiece in ./.local/lib/python3.11/site-packages (0.2.0)\n",
      "Requirement already satisfied: protobuf in ./.local/lib/python3.11/site-packages (5.28.3)\n",
      "Requirement already satisfied: langchain in ./.local/lib/python3.11/site-packages (0.3.4)\n",
      "Requirement already satisfied: langchain-community in ./.local/lib/python3.11/site-packages (0.3.3)\n",
      "Requirement already satisfied: langchain-unstructured in ./.local/lib/python3.11/site-packages (0.1.5)\n",
      "Requirement already satisfied: pypdf in ./.local/lib/python3.11/site-packages (5.0.1)\n",
      "Requirement already satisfied: chardet in /cluster/software/EL9/easybuild/software/Python-bundle-PyPI/2023.10-GCCcore-13.2.0/lib/python3.11/site-packages (from unstructured) (5.2.0)\n",
      "Requirement already satisfied: filetype in ./.local/lib/python3.11/site-packages (from unstructured) (1.2.0)\n",
      "Requirement already satisfied: python-magic in ./.local/lib/python3.11/site-packages (from unstructured) (0.4.27)\n",
      "Requirement already satisfied: lxml in /cluster/software/EL9/easybuild/software/lxml/4.9.3-GCCcore-13.2.0/lib/python3.11/site-packages (from unstructured) (4.9.3)\n",
      "Requirement already satisfied: nltk in ./.local/lib/python3.11/site-packages (from unstructured) (3.9.1)\n",
      "Requirement already satisfied: requests in /cluster/software/EL9/easybuild/software/Python-bundle-PyPI/2023.10-GCCcore-13.2.0/lib/python3.11/site-packages (from unstructured) (2.31.0)\n",
      "Requirement already satisfied: beautifulsoup4 in /cluster/software/EL9/easybuild/software/BeautifulSoup/4.12.2-GCCcore-13.2.0/lib/python3.11/site-packages (from unstructured) (4.12.2)\n",
      "Requirement already satisfied: emoji in ./.local/lib/python3.11/site-packages (from unstructured) (2.14.0)\n",
      "Requirement already satisfied: dataclasses-json in ./.local/lib/python3.11/site-packages (from unstructured) (0.6.7)\n",
      "Requirement already satisfied: python-iso639 in ./.local/lib/python3.11/site-packages (from unstructured) (2024.4.27)\n",
      "Requirement already satisfied: langdetect in ./.local/lib/python3.11/site-packages (from unstructured) (1.0.9)\n",
      "Requirement already satisfied: numpy<2 in ./.local/lib/python3.11/site-packages (from unstructured) (1.26.4)\n",
      "Requirement already satisfied: rapidfuzz in /cluster/software/EL9/easybuild/software/Python-bundle-PyPI/2023.10-GCCcore-13.2.0/lib/python3.11/site-packages (from unstructured) (2.15.2)\n",
      "Requirement already satisfied: backoff in ./.local/lib/python3.11/site-packages (from unstructured) (2.2.1)\n",
      "Requirement already satisfied: typing-extensions in ./.local/lib/python3.11/site-packages (from unstructured) (4.12.2)\n",
      "Requirement already satisfied: unstructured-client in ./.local/lib/python3.11/site-packages (from unstructured) (0.25.9)\n",
      "Requirement already satisfied: wrapt in ./.local/lib/python3.11/site-packages (from unstructured) (1.16.0)\n",
      "Requirement already satisfied: tqdm in ./.local/lib/python3.11/site-packages (from unstructured) (4.66.5)\n",
      "Requirement already satisfied: psutil in /cluster/software/EL9/easybuild/software/Python-bundle-PyPI/2023.10-GCCcore-13.2.0/lib/python3.11/site-packages (from unstructured) (5.9.6)\n",
      "Requirement already satisfied: python-oxmsg in ./.local/lib/python3.11/site-packages (from unstructured) (0.0.1)\n",
      "Requirement already satisfied: html5lib in /cluster/software/EL9/easybuild/software/Python-bundle-PyPI/2023.10-GCCcore-13.2.0/lib/python3.11/site-packages (from unstructured) (1.1)\n",
      "Requirement already satisfied: pdfminer.six in ./.local/lib/python3.11/site-packages (from unstructured[all-docs]) (20231228)\n",
      "Requirement already satisfied: pikepdf in ./.local/lib/python3.11/site-packages (from unstructured[all-docs]) (9.3.0)\n",
      "Requirement already satisfied: effdet in ./.local/lib/python3.11/site-packages (from unstructured[all-docs]) (0.4.1)\n",
      "Requirement already satisfied: python-docx>=1.1.2 in ./.local/lib/python3.11/site-packages (from unstructured[all-docs]) (1.1.2)\n",
      "Requirement already satisfied: markdown in ./.local/lib/python3.11/site-packages (from unstructured[all-docs]) (3.7)\n",
      "Requirement already satisfied: google-cloud-vision in ./.local/lib/python3.11/site-packages (from unstructured[all-docs]) (3.7.4)\n",
      "Requirement already satisfied: openpyxl in ./.local/lib/python3.11/site-packages (from unstructured[all-docs]) (3.1.5)\n",
      "Requirement already satisfied: python-pptx>=1.0.1 in ./.local/lib/python3.11/site-packages (from unstructured[all-docs]) (1.0.2)\n",
      "Requirement already satisfied: pandas in ./.local/lib/python3.11/site-packages (from unstructured[all-docs]) (2.2.3)\n",
      "Requirement already satisfied: pdf2image in ./.local/lib/python3.11/site-packages (from unstructured[all-docs]) (1.17.0)\n",
      "Requirement already satisfied: unstructured.pytesseract>=0.3.12 in ./.local/lib/python3.11/site-packages (from unstructured[all-docs]) (0.3.13)\n",
      "Requirement already satisfied: unstructured-inference==0.8.0 in ./.local/lib/python3.11/site-packages (from unstructured[all-docs]) (0.8.0)\n",
      "Requirement already satisfied: pypandoc in ./.local/lib/python3.11/site-packages (from unstructured[all-docs]) (1.14)\n",
      "Requirement already satisfied: pi-heif in ./.local/lib/python3.11/site-packages (from unstructured[all-docs]) (0.18.0)\n",
      "Requirement already satisfied: onnx in ./.local/lib/python3.11/site-packages (from unstructured[all-docs]) (1.17.0)\n",
      "Requirement already satisfied: xlrd in /cluster/software/EL9/easybuild/software/Python-bundle-PyPI/2023.10-GCCcore-13.2.0/lib/python3.11/site-packages (from unstructured[all-docs]) (2.0.1)\n",
      "Requirement already satisfied: networkx in ./.local/lib/python3.11/site-packages (from unstructured[all-docs]) (3.3)\n",
      "Requirement already satisfied: layoutparser in ./.local/lib/python3.11/site-packages (from unstructured-inference==0.8.0->unstructured[all-docs]) (0.3.4)\n",
      "Requirement already satisfied: python-multipart in ./.local/lib/python3.11/site-packages (from unstructured-inference==0.8.0->unstructured[all-docs]) (0.0.12)\n",
      "Requirement already satisfied: opencv-python!=4.7.0.68 in ./.local/lib/python3.11/site-packages (from unstructured-inference==0.8.0->unstructured[all-docs]) (4.10.0.84)\n",
      "Requirement already satisfied: onnxruntime>=1.17.0 in ./.local/lib/python3.11/site-packages (from unstructured-inference==0.8.0->unstructured[all-docs]) (1.19.2)\n",
      "Requirement already satisfied: matplotlib in ./.local/lib/python3.11/site-packages (from unstructured-inference==0.8.0->unstructured[all-docs]) (3.9.2)\n",
      "Requirement already satisfied: torch in ./.local/lib/python3.11/site-packages (from unstructured-inference==0.8.0->unstructured[all-docs]) (2.4.1)\n",
      "Requirement already satisfied: timm in ./.local/lib/python3.11/site-packages (from unstructured-inference==0.8.0->unstructured[all-docs]) (1.0.10)\n",
      "Requirement already satisfied: transformers>=4.25.1 in ./.local/lib/python3.11/site-packages (from unstructured-inference==0.8.0->unstructured[all-docs]) (4.44.2)\n",
      "Requirement already satisfied: scikit-learn in ./.local/lib/python3.11/site-packages (from sentence-transformers) (1.5.1)\n",
      "Requirement already satisfied: scipy in ./.local/lib/python3.11/site-packages (from sentence-transformers) (1.14.1)\n",
      "Requirement already satisfied: Pillow in ./.local/lib/python3.11/site-packages (from sentence-transformers) (10.4.0)\n",
      "Requirement already satisfied: filelock in /cluster/software/EL9/easybuild/software/Python-bundle-PyPI/2023.10-GCCcore-13.2.0/lib/python3.11/site-packages (from huggingface-hub) (3.13.0)\n",
      "Requirement already satisfied: fsspec>=2023.5.0 in /cluster/software/EL9/easybuild/software/Python-bundle-PyPI/2023.10-GCCcore-13.2.0/lib/python3.11/site-packages (from huggingface-hub) (2023.10.0)\n",
      "Requirement already satisfied: packaging>=20.9 in /cluster/software/EL9/easybuild/software/Python-bundle-PyPI/2023.10-GCCcore-13.2.0/lib/python3.11/site-packages (from huggingface-hub) (23.2)\n",
      "Requirement already satisfied: pyyaml>=5.1 in /cluster/software/EL9/easybuild/software/PyYAML/6.0.1-GCCcore-13.2.0/lib/python3.11/site-packages (from huggingface-hub) (6.0.1)\n",
      "Requirement already satisfied: SQLAlchemy<3,>=1.4 in ./.local/lib/python3.11/site-packages (from langchain) (2.0.32)\n",
      "Requirement already satisfied: aiohttp<4.0.0,>=3.8.3 in ./.local/lib/python3.11/site-packages (from langchain) (3.10.5)\n",
      "Requirement already satisfied: langchain-core<0.4.0,>=0.3.12 in ./.local/lib/python3.11/site-packages (from langchain) (0.3.12)\n",
      "Requirement already satisfied: langchain-text-splitters<0.4.0,>=0.3.0 in ./.local/lib/python3.11/site-packages (from langchain) (0.3.0)\n",
      "Requirement already satisfied: langsmith<0.2.0,>=0.1.17 in ./.local/lib/python3.11/site-packages (from langchain) (0.1.131)\n",
      "Requirement already satisfied: pydantic<3.0.0,>=2.7.4 in ./.local/lib/python3.11/site-packages (from langchain) (2.9.2)\n",
      "Requirement already satisfied: tenacity!=8.4.0,<10,>=8.1.0 in ./.local/lib/python3.11/site-packages (from langchain) (8.5.0)\n",
      "Requirement already satisfied: pydantic-settings<3.0.0,>=2.4.0 in ./.local/lib/python3.11/site-packages (from langchain-community) (2.5.2)\n",
      "Requirement already satisfied: aiohappyeyeballs>=2.3.0 in ./.local/lib/python3.11/site-packages (from aiohttp<4.0.0,>=3.8.3->langchain) (2.4.0)\n",
      "Requirement already satisfied: aiosignal>=1.1.2 in ./.local/lib/python3.11/site-packages (from aiohttp<4.0.0,>=3.8.3->langchain) (1.3.1)\n",
      "Requirement already satisfied: attrs>=17.3.0 in /cluster/software/EL9/easybuild/software/Python-bundle-PyPI/2023.10-GCCcore-13.2.0/lib/python3.11/site-packages (from aiohttp<4.0.0,>=3.8.3->langchain) (23.1.0)\n",
      "Requirement already satisfied: frozenlist>=1.1.1 in ./.local/lib/python3.11/site-packages (from aiohttp<4.0.0,>=3.8.3->langchain) (1.4.1)\n",
      "Requirement already satisfied: multidict<7.0,>=4.5 in ./.local/lib/python3.11/site-packages (from aiohttp<4.0.0,>=3.8.3->langchain) (6.0.5)\n",
      "Requirement already satisfied: yarl<2.0,>=1.0 in ./.local/lib/python3.11/site-packages (from aiohttp<4.0.0,>=3.8.3->langchain) (1.9.5)\n",
      "Requirement already satisfied: marshmallow<4.0.0,>=3.18.0 in ./.local/lib/python3.11/site-packages (from dataclasses-json->unstructured) (3.22.0)\n",
      "Requirement already satisfied: typing-inspect<1,>=0.4.0 in ./.local/lib/python3.11/site-packages (from dataclasses-json->unstructured) (0.9.0)\n",
      "Requirement already satisfied: jsonpatch<2.0,>=1.33 in ./.local/lib/python3.11/site-packages (from langchain-core<0.4.0,>=0.3.12->langchain) (1.33)\n",
      "Requirement already satisfied: httpx<1,>=0.23.0 in /cluster/software/EL9/easybuild/software/JupyterLab/4.2.0-GCCcore-13.2.0/lib/python3.11/site-packages (from langsmith<0.2.0,>=0.1.17->langchain) (0.27.0)\n",
      "Requirement already satisfied: orjson<4.0.0,>=3.9.14 in ./.local/lib/python3.11/site-packages (from langsmith<0.2.0,>=0.1.17->langchain) (3.10.7)\n",
      "Requirement already satisfied: requests-toolbelt<2.0.0,>=1.0.0 in /cluster/software/EL9/easybuild/software/Python-bundle-PyPI/2023.10-GCCcore-13.2.0/lib/python3.11/site-packages (from langsmith<0.2.0,>=0.1.17->langchain) (1.0.0)\n",
      "Requirement already satisfied: annotated-types>=0.6.0 in ./.local/lib/python3.11/site-packages (from pydantic<3.0.0,>=2.7.4->langchain) (0.7.0)\n",
      "Requirement already satisfied: pydantic-core==2.23.4 in ./.local/lib/python3.11/site-packages (from pydantic<3.0.0,>=2.7.4->langchain) (2.23.4)\n",
      "Requirement already satisfied: python-dotenv>=0.21.0 in ./.local/lib/python3.11/site-packages (from pydantic-settings<3.0.0,>=2.4.0->langchain-community) (1.0.1)\n",
      "Requirement already satisfied: XlsxWriter>=0.5.7 in ./.local/lib/python3.11/site-packages (from python-pptx>=1.0.1->unstructured[all-docs]) (3.2.0)\n",
      "Requirement already satisfied: charset-normalizer<4,>=2 in /cluster/software/EL9/easybuild/software/Python-bundle-PyPI/2023.10-GCCcore-13.2.0/lib/python3.11/site-packages (from requests->unstructured) (3.3.1)\n",
      "Requirement already satisfied: idna<4,>=2.5 in /cluster/software/EL9/easybuild/software/Python-bundle-PyPI/2023.10-GCCcore-13.2.0/lib/python3.11/site-packages (from requests->unstructured) (3.4)\n",
      "Requirement already satisfied: urllib3<3,>=1.21.1 in /cluster/software/EL9/easybuild/software/Python-bundle-PyPI/2023.10-GCCcore-13.2.0/lib/python3.11/site-packages (from requests->unstructured) (2.0.7)\n",
      "Requirement already satisfied: certifi>=2017.4.17 in /cluster/software/EL9/easybuild/software/Python-bundle-PyPI/2023.10-GCCcore-13.2.0/lib/python3.11/site-packages (from requests->unstructured) (2023.7.22)\n",
      "Requirement already satisfied: greenlet!=0.4.17 in ./.local/lib/python3.11/site-packages (from SQLAlchemy<3,>=1.4->langchain) (3.0.3)\n",
      "Requirement already satisfied: sympy in ./.local/lib/python3.11/site-packages (from torch->unstructured-inference==0.8.0->unstructured[all-docs]) (1.13.2)\n",
      "Requirement already satisfied: jinja2 in /cluster/software/EL9/easybuild/software/Python-bundle-PyPI/2023.10-GCCcore-13.2.0/lib/python3.11/site-packages (from torch->unstructured-inference==0.8.0->unstructured[all-docs]) (3.1.2)\n",
      "Requirement already satisfied: nvidia-cuda-nvrtc-cu12==12.1.105 in ./.local/lib/python3.11/site-packages (from torch->unstructured-inference==0.8.0->unstructured[all-docs]) (12.1.105)\n",
      "Requirement already satisfied: nvidia-cuda-runtime-cu12==12.1.105 in ./.local/lib/python3.11/site-packages (from torch->unstructured-inference==0.8.0->unstructured[all-docs]) (12.1.105)\n",
      "Requirement already satisfied: nvidia-cuda-cupti-cu12==12.1.105 in ./.local/lib/python3.11/site-packages (from torch->unstructured-inference==0.8.0->unstructured[all-docs]) (12.1.105)\n",
      "Requirement already satisfied: nvidia-cudnn-cu12==9.1.0.70 in ./.local/lib/python3.11/site-packages (from torch->unstructured-inference==0.8.0->unstructured[all-docs]) (9.1.0.70)\n",
      "Requirement already satisfied: nvidia-cublas-cu12==12.1.3.1 in ./.local/lib/python3.11/site-packages (from torch->unstructured-inference==0.8.0->unstructured[all-docs]) (12.1.3.1)\n",
      "Requirement already satisfied: nvidia-cufft-cu12==11.0.2.54 in ./.local/lib/python3.11/site-packages (from torch->unstructured-inference==0.8.0->unstructured[all-docs]) (11.0.2.54)\n",
      "Requirement already satisfied: nvidia-curand-cu12==10.3.2.106 in ./.local/lib/python3.11/site-packages (from torch->unstructured-inference==0.8.0->unstructured[all-docs]) (10.3.2.106)\n",
      "Requirement already satisfied: nvidia-cusolver-cu12==11.4.5.107 in ./.local/lib/python3.11/site-packages (from torch->unstructured-inference==0.8.0->unstructured[all-docs]) (11.4.5.107)\n",
      "Requirement already satisfied: nvidia-cusparse-cu12==12.1.0.106 in ./.local/lib/python3.11/site-packages (from torch->unstructured-inference==0.8.0->unstructured[all-docs]) (12.1.0.106)\n",
      "Requirement already satisfied: nvidia-nccl-cu12==2.20.5 in ./.local/lib/python3.11/site-packages (from torch->unstructured-inference==0.8.0->unstructured[all-docs]) (2.20.5)\n",
      "Requirement already satisfied: nvidia-nvtx-cu12==12.1.105 in ./.local/lib/python3.11/site-packages (from torch->unstructured-inference==0.8.0->unstructured[all-docs]) (12.1.105)\n",
      "Requirement already satisfied: triton==3.0.0 in ./.local/lib/python3.11/site-packages (from torch->unstructured-inference==0.8.0->unstructured[all-docs]) (3.0.0)\n",
      "Requirement already satisfied: nvidia-nvjitlink-cu12 in ./.local/lib/python3.11/site-packages (from nvidia-cusolver-cu12==11.4.5.107->torch->unstructured-inference==0.8.0->unstructured[all-docs]) (12.6.68)\n",
      "Requirement already satisfied: regex!=2019.12.17 in /cluster/software/EL9/easybuild/software/Python-bundle-PyPI/2023.10-GCCcore-13.2.0/lib/python3.11/site-packages (from transformers>=4.25.1->unstructured-inference==0.8.0->unstructured[all-docs]) (2023.10.3)\n",
      "Requirement already satisfied: safetensors>=0.4.1 in ./.local/lib/python3.11/site-packages (from transformers>=4.25.1->unstructured-inference==0.8.0->unstructured[all-docs]) (0.4.4)\n",
      "Requirement already satisfied: tokenizers<0.20,>=0.19 in ./.local/lib/python3.11/site-packages (from transformers>=4.25.1->unstructured-inference==0.8.0->unstructured[all-docs]) (0.19.1)\n",
      "Requirement already satisfied: cryptography>=3.1 in /cluster/software/EL9/easybuild/software/cryptography/41.0.5-GCCcore-13.2.0/lib/python3.11/site-packages (from unstructured-client->unstructured) (41.0.5)\n",
      "Requirement already satisfied: deepdiff>=6.0 in ./.local/lib/python3.11/site-packages (from unstructured-client->unstructured) (8.0.1)\n",
      "Requirement already satisfied: jsonpath-python>=1.0.6 in ./.local/lib/python3.11/site-packages (from unstructured-client->unstructured) (1.0.6)\n",
      "Requirement already satisfied: mypy-extensions>=1.0.0 in ./.local/lib/python3.11/site-packages (from unstructured-client->unstructured) (1.0.0)\n",
      "Requirement already satisfied: nest-asyncio>=1.6.0 in /cluster/software/EL9/easybuild/software/jupyter-server/2.14.0-GCCcore-13.2.0/lib/python3.11/site-packages (from unstructured-client->unstructured) (1.6.0)\n",
      "Requirement already satisfied: python-dateutil>=2.8.2 in /cluster/software/EL9/easybuild/software/Python-bundle-PyPI/2023.10-GCCcore-13.2.0/lib/python3.11/site-packages (from unstructured-client->unstructured) (2.8.2)\n",
      "Requirement already satisfied: six>=1.16.0 in /cluster/software/EL9/easybuild/software/Python-bundle-PyPI/2023.10-GCCcore-13.2.0/lib/python3.11/site-packages (from unstructured-client->unstructured) (1.16.0)\n",
      "Requirement already satisfied: soupsieve>1.2 in /cluster/software/EL9/easybuild/software/BeautifulSoup/4.12.2-GCCcore-13.2.0/lib/python3.11/site-packages (from beautifulsoup4->unstructured) (2.5)\n",
      "Requirement already satisfied: torchvision in ./.local/lib/python3.11/site-packages (from effdet->unstructured[all-docs]) (0.19.1)\n",
      "Requirement already satisfied: pycocotools>=2.0.2 in ./.local/lib/python3.11/site-packages (from effdet->unstructured[all-docs]) (2.0.8)\n",
      "Requirement already satisfied: omegaconf>=2.0 in ./.local/lib/python3.11/site-packages (from effdet->unstructured[all-docs]) (2.3.0)\n",
      "Requirement already satisfied: google-api-core!=2.0.*,!=2.1.*,!=2.10.*,!=2.2.*,!=2.3.*,!=2.4.*,!=2.5.*,!=2.6.*,!=2.7.*,!=2.8.*,!=2.9.*,<3.0.0dev,>=1.34.1 in ./.local/lib/python3.11/site-packages (from google-api-core[grpc]!=2.0.*,!=2.1.*,!=2.10.*,!=2.2.*,!=2.3.*,!=2.4.*,!=2.5.*,!=2.6.*,!=2.7.*,!=2.8.*,!=2.9.*,<3.0.0dev,>=1.34.1->google-cloud-vision->unstructured[all-docs]) (2.21.0)\n",
      "Requirement already satisfied: google-auth!=2.24.0,!=2.25.0,<3.0.0dev,>=2.14.1 in ./.local/lib/python3.11/site-packages (from google-cloud-vision->unstructured[all-docs]) (2.35.0)\n",
      "Requirement already satisfied: proto-plus<2.0.0dev,>=1.22.3 in ./.local/lib/python3.11/site-packages (from google-cloud-vision->unstructured[all-docs]) (1.24.0)\n",
      "Requirement already satisfied: webencodings in /cluster/software/EL9/easybuild/software/Python-bundle-PyPI/2023.10-GCCcore-13.2.0/lib/python3.11/site-packages (from html5lib->unstructured) (0.5.1)\n",
      "Requirement already satisfied: click in /cluster/software/EL9/easybuild/software/Python-bundle-PyPI/2023.10-GCCcore-13.2.0/lib/python3.11/site-packages (from nltk->unstructured) (8.1.7)\n",
      "Requirement already satisfied: joblib in /cluster/software/EL9/easybuild/software/Python-bundle-PyPI/2023.10-GCCcore-13.2.0/lib/python3.11/site-packages (from nltk->unstructured) (1.3.2)\n",
      "Requirement already satisfied: et-xmlfile in ./.local/lib/python3.11/site-packages (from openpyxl->unstructured[all-docs]) (1.1.0)\n",
      "Requirement already satisfied: pytz>=2020.1 in /cluster/software/EL9/easybuild/software/Python-bundle-PyPI/2023.10-GCCcore-13.2.0/lib/python3.11/site-packages (from pandas->unstructured[all-docs]) (2023.3.post1)\n",
      "Requirement already satisfied: tzdata>=2022.7 in ./.local/lib/python3.11/site-packages (from pandas->unstructured[all-docs]) (2024.2)\n",
      "Requirement already satisfied: Deprecated in ./.local/lib/python3.11/site-packages (from pikepdf->unstructured[all-docs]) (1.2.14)\n",
      "Requirement already satisfied: olefile in ./.local/lib/python3.11/site-packages (from python-oxmsg->unstructured) (0.47)\n",
      "Requirement already satisfied: threadpoolctl>=3.1.0 in /cluster/software/EL9/easybuild/software/Python-bundle-PyPI/2023.10-GCCcore-13.2.0/lib/python3.11/site-packages (from scikit-learn->sentence-transformers) (3.2.0)\n",
      "Requirement already satisfied: cffi>=1.12 in /cluster/software/EL9/easybuild/software/Python-bundle-PyPI/2023.10-GCCcore-13.2.0/lib/python3.11/site-packages (from cryptography>=3.1->unstructured-client->unstructured) (1.16.0)\n",
      "Requirement already satisfied: orderly-set==5.2.2 in ./.local/lib/python3.11/site-packages (from deepdiff>=6.0->unstructured-client->unstructured) (5.2.2)\n",
      "Requirement already satisfied: googleapis-common-protos<2.0.dev0,>=1.56.2 in ./.local/lib/python3.11/site-packages (from google-api-core!=2.0.*,!=2.1.*,!=2.10.*,!=2.2.*,!=2.3.*,!=2.4.*,!=2.5.*,!=2.6.*,!=2.7.*,!=2.8.*,!=2.9.*,<3.0.0dev,>=1.34.1->google-api-core[grpc]!=2.0.*,!=2.1.*,!=2.10.*,!=2.2.*,!=2.3.*,!=2.4.*,!=2.5.*,!=2.6.*,!=2.7.*,!=2.8.*,!=2.9.*,<3.0.0dev,>=1.34.1->google-cloud-vision->unstructured[all-docs]) (1.65.0)\n",
      "Requirement already satisfied: grpcio<2.0dev,>=1.33.2 in ./.local/lib/python3.11/site-packages (from google-api-core[grpc]!=2.0.*,!=2.1.*,!=2.10.*,!=2.2.*,!=2.3.*,!=2.4.*,!=2.5.*,!=2.6.*,!=2.7.*,!=2.8.*,!=2.9.*,<3.0.0dev,>=1.34.1->google-cloud-vision->unstructured[all-docs]) (1.67.0)\n",
      "Requirement already satisfied: grpcio-status<2.0.dev0,>=1.33.2 in ./.local/lib/python3.11/site-packages (from google-api-core[grpc]!=2.0.*,!=2.1.*,!=2.10.*,!=2.2.*,!=2.3.*,!=2.4.*,!=2.5.*,!=2.6.*,!=2.7.*,!=2.8.*,!=2.9.*,<3.0.0dev,>=1.34.1->google-cloud-vision->unstructured[all-docs]) (1.67.0)\n",
      "Requirement already satisfied: cachetools<6.0,>=2.0.0 in ./.local/lib/python3.11/site-packages (from google-auth!=2.24.0,!=2.25.0,<3.0.0dev,>=2.14.1->google-cloud-vision->unstructured[all-docs]) (5.5.0)\n",
      "Requirement already satisfied: pyasn1-modules>=0.2.1 in ./.local/lib/python3.11/site-packages (from google-auth!=2.24.0,!=2.25.0,<3.0.0dev,>=2.14.1->google-cloud-vision->unstructured[all-docs]) (0.4.1)\n",
      "Requirement already satisfied: rsa<5,>=3.1.4 in ./.local/lib/python3.11/site-packages (from google-auth!=2.24.0,!=2.25.0,<3.0.0dev,>=2.14.1->google-cloud-vision->unstructured[all-docs]) (4.9)\n",
      "Requirement already satisfied: anyio in /cluster/software/EL9/easybuild/software/jupyter-server/2.14.0-GCCcore-13.2.0/lib/python3.11/site-packages (from httpx<1,>=0.23.0->langsmith<0.2.0,>=0.1.17->langchain) (4.3.0)\n",
      "Requirement already satisfied: httpcore==1.* in /cluster/software/EL9/easybuild/software/JupyterLab/4.2.0-GCCcore-13.2.0/lib/python3.11/site-packages (from httpx<1,>=0.23.0->langsmith<0.2.0,>=0.1.17->langchain) (1.0.5)\n",
      "Requirement already satisfied: sniffio in /cluster/software/EL9/easybuild/software/jupyter-server/2.14.0-GCCcore-13.2.0/lib/python3.11/site-packages (from httpx<1,>=0.23.0->langsmith<0.2.0,>=0.1.17->langchain) (1.3.1)\n",
      "Requirement already satisfied: h11<0.15,>=0.13 in /cluster/software/EL9/easybuild/software/JupyterLab/4.2.0-GCCcore-13.2.0/lib/python3.11/site-packages (from httpcore==1.*->httpx<1,>=0.23.0->langsmith<0.2.0,>=0.1.17->langchain) (0.14.0)\n",
      "Requirement already satisfied: jsonpointer>=1.9 in ./.local/lib/python3.11/site-packages (from jsonpatch<2.0,>=1.33->langchain-core<0.4.0,>=0.3.12->langchain) (3.0.0)\n",
      "Requirement already satisfied: antlr4-python3-runtime==4.9.* in ./.local/lib/python3.11/site-packages (from omegaconf>=2.0->effdet->unstructured[all-docs]) (4.9.3)\n",
      "Requirement already satisfied: coloredlogs in ./.local/lib/python3.11/site-packages (from onnxruntime>=1.17.0->unstructured-inference==0.8.0->unstructured[all-docs]) (15.0.1)\n",
      "Requirement already satisfied: flatbuffers in ./.local/lib/python3.11/site-packages (from onnxruntime>=1.17.0->unstructured-inference==0.8.0->unstructured[all-docs]) (24.3.25)\n",
      "Requirement already satisfied: contourpy>=1.0.1 in ./.local/lib/python3.11/site-packages (from matplotlib->unstructured-inference==0.8.0->unstructured[all-docs]) (1.3.0)\n",
      "Requirement already satisfied: cycler>=0.10 in ./.local/lib/python3.11/site-packages (from matplotlib->unstructured-inference==0.8.0->unstructured[all-docs]) (0.12.1)\n",
      "Requirement already satisfied: fonttools>=4.22.0 in ./.local/lib/python3.11/site-packages (from matplotlib->unstructured-inference==0.8.0->unstructured[all-docs]) (4.54.1)\n",
      "Requirement already satisfied: kiwisolver>=1.3.1 in ./.local/lib/python3.11/site-packages (from matplotlib->unstructured-inference==0.8.0->unstructured[all-docs]) (1.4.7)\n",
      "Requirement already satisfied: pyparsing>=2.3.1 in /cluster/software/EL9/easybuild/software/Python-bundle-PyPI/2023.10-GCCcore-13.2.0/lib/python3.11/site-packages (from matplotlib->unstructured-inference==0.8.0->unstructured[all-docs]) (3.1.1)\n",
      "Requirement already satisfied: MarkupSafe>=2.0 in /cluster/software/EL9/easybuild/software/Python-bundle-PyPI/2023.10-GCCcore-13.2.0/lib/python3.11/site-packages (from jinja2->torch->unstructured-inference==0.8.0->unstructured[all-docs]) (2.1.3)\n",
      "Requirement already satisfied: iopath in ./.local/lib/python3.11/site-packages (from layoutparser->unstructured-inference==0.8.0->unstructured[all-docs]) (0.1.10)\n",
      "Requirement already satisfied: pdfplumber in ./.local/lib/python3.11/site-packages (from layoutparser->unstructured-inference==0.8.0->unstructured[all-docs]) (0.11.4)\n",
      "Requirement already satisfied: mpmath<1.4,>=1.1.0 in ./.local/lib/python3.11/site-packages (from sympy->torch->unstructured-inference==0.8.0->unstructured[all-docs]) (1.3.0)\n",
      "Requirement already satisfied: pycparser in /cluster/software/EL9/easybuild/software/Python-bundle-PyPI/2023.10-GCCcore-13.2.0/lib/python3.11/site-packages (from cffi>=1.12->cryptography>=3.1->unstructured-client->unstructured) (2.21)\n",
      "Requirement already satisfied: pyasn1<0.7.0,>=0.4.6 in /cluster/software/EL9/easybuild/software/Python-bundle-PyPI/2023.10-GCCcore-13.2.0/lib/python3.11/site-packages (from pyasn1-modules>=0.2.1->google-auth!=2.24.0,!=2.25.0,<3.0.0dev,>=2.14.1->google-cloud-vision->unstructured[all-docs]) (0.5.0)\n",
      "Requirement already satisfied: humanfriendly>=9.1 in ./.local/lib/python3.11/site-packages (from coloredlogs->onnxruntime>=1.17.0->unstructured-inference==0.8.0->unstructured[all-docs]) (10.0)\n",
      "Requirement already satisfied: portalocker in ./.local/lib/python3.11/site-packages (from iopath->layoutparser->unstructured-inference==0.8.0->unstructured[all-docs]) (2.10.1)\n",
      "Requirement already satisfied: pypdfium2>=4.18.0 in ./.local/lib/python3.11/site-packages (from pdfplumber->layoutparser->unstructured-inference==0.8.0->unstructured[all-docs]) (4.30.0)\n"
     ]
    }
   ],
   "source": [
    "!pip install --upgrade pip unstructured[all-docs] langchain-unstructured"
   ]
  },
  {
   "cell_type": "markdown",
   "id": "62855d10-417b-4648-a14e-f5512c1f4f18",
   "metadata": {},
   "source": [
    "## The Language Model\n",
    "We’ll use models from [HuggingFace](https://huggingface.co/), a website that has tools and models for machine learning.\n",
    "We’ll use the open-source LLM [mistralai/Mistral-Nemo-Instruct-2407]( https://huggingface.co/mistralai/Mistral-Nemo-Instruct-2407).\n",
    "This model has 12 billion parameters.\n",
    "For comparison, one of the largest LLMs at the time of writing is Llama 3.1, with 405 billion parameters.\n",
    "Still, Mistral-Nemo-Instruct is around 25 GB, which makes it a quite large model.\n",
    "To run it, we must have a GPU with at least 25 GB memory.\n",
    "It can also be run without a GPU, but that will be much slower.\n",
    "\n",
    "We should tell the HuggingFace library where to store its data. If you’re running on Educloud/Fox project ec443 the model is stored at the path below."
   ]
  },
  {
   "cell_type": "code",
   "execution_count": 4,
   "id": "ac38b664-7075-4ed6-9a21-bb1465b7c095",
   "metadata": {
    "editable": true,
    "slideshow": {
     "slide_type": ""
    },
    "tags": [
     "remove-output"
    ]
   },
   "outputs": [
    {
     "name": "stdout",
     "output_type": "stream",
     "text": [
      "env: HF_HOME=/fp/projects01/ec367/huggingface/cache/\n"
     ]
    }
   ],
   "source": [
    "%env HF_HOME=/fp/projects01/ec443/huggingface/cache/"
   ]
  },
  {
   "cell_type": "markdown",
   "id": "4bd74d3d-d6b3-422e-ba7f-160036830e38",
   "metadata": {},
   "source": [
    "If you’re not running on Educloud/Fox project ec443 you’ll need to download the model.\n",
    "Even though the model Mistral-Nemo-Instruct-2407 is open source, we must log in to HuggingFace to download it.\n",
    "If you’re running on Educloud/Fox project ec443 the model is *already downloaded*, so you can skip this step."
   ]
  },
  {
   "cell_type": "code",
   "execution_count": 5,
   "id": "40a0f096-4213-4fad-8930-efb3b2a74c54",
   "metadata": {
    "editable": true,
    "slideshow": {
     "slide_type": ""
    },
    "tags": [
     "remove-output"
    ]
   },
   "outputs": [
    {
     "data": {
      "application/vnd.jupyter.widget-view+json": {
       "model_id": "a0d2ed16c70a496fb8410ec74277f580",
       "version_major": 2,
       "version_minor": 0
      },
      "text/plain": [
       "VBox(children=(HTML(value='<center> <img\\nsrc=https://huggingface.co/front/assets/huggingface_logo-noborder.sv…"
      ]
     },
     "metadata": {},
     "output_type": "display_data"
    }
   ],
   "source": [
    "from huggingface_hub import login\n",
    "login()"
   ]
  },
  {
   "cell_type": "markdown",
   "id": "3fb595bd",
   "metadata": {},
   "source": [
    "To use the model, we create a *pipeline*.\n",
    "A pipeline can consist of several processing steps, but in this case, we only need one step.\n",
    "We can use the method `HuggingFacePipeline.from_model_id()`, which automatically downloads the specified model from HuggingFace."
   ]
  },
  {
   "cell_type": "markdown",
   "id": "a647226e-d084-4066-b6f7-74c64f4764d2",
   "metadata": {},
   "source": [
    "from transformers import pipeline\n",
    "\n",
    "llm = pipeline(\"text-generation\", \n",
    "               model=\"mistralai/Mistral-Nemo-Instruct-2407\",\n",
    "               device=0,\n",
    "               max_new_tokens=1000)"
   ]
  },
  {
   "cell_type": "code",
   "execution_count": 6,
   "id": "3059fb20-861e-4d7d-b5a4-cd141b8b352b",
   "metadata": {
    "scrolled": true,
    "tags": []
   },
   "outputs": [
    {
     "data": {
      "application/vnd.jupyter.widget-view+json": {
       "model_id": "489404f979a44222a7ab45592d517f81",
       "version_major": 2,
       "version_minor": 0
      },
      "text/plain": [
       "Loading checkpoint shards:   0%|          | 0/5 [00:00<?, ?it/s]"
      ]
     },
     "metadata": {},
     "output_type": "display_data"
    }
   ],
   "source": [
    "from langchain_community.llms import HuggingFacePipeline\n",
    "\n",
    "llm = HuggingFacePipeline.from_model_id(\n",
    "    #model_id='mistralai/Mistral-Small-Instruct-2409',\n",
    "    model_id='mistralai/Mistral-Nemo-Instruct-2407',\n",
    "    #model_id='mistralai/Mistral-7B-Instruct-v0.3',\n",
    "    task='text-generation',\n",
    "    device=0,\n",
    "    pipeline_kwargs={\n",
    "        'max_new_tokens': 1000,\n",
    "        #'temperature': 0.3,\n",
    "        #'num_beams': 4,\n",
    "        #'do_sample': True\n",
    "    }\n",
    ")"
   ]
  },
  {
   "cell_type": "markdown",
   "id": "42032173",
   "metadata": {},
   "source": [
    "\n",
    "We give some arguments to the pipeline:\n",
    "- `model_id`: the name of the  model on HuggingFace\n",
    "- `task`:  the task you want to use the model for\n",
    "- `device`: the GPU hardware device to use. If we don't specify a device, no GPU will be used.\n",
    "- `pipeline_kwargs`: additional parameters that are passed to the model.\n",
    "    - `max_new_tokens`: maximum length of the generated text\n",
    "    - `do_sample`: by default, the most likely next word is chosen.  This makes the output deterministic. We can introduce some randomness by sampling among the  most likely words instead.\n",
    "    - `temperature`: the temperature controls the amount of randomness, where zero means no randomness.\n",
    "    - `num_beams`: by default the model works with a single sequence of  tokens/words. With beam search, the program  builds multiple sequences at the same time, and then selects the best one in the end.\n"
   ]
  },
  {
   "cell_type": "markdown",
   "id": "e1e788a2",
   "metadata": {},
   "source": [
    "## Making a Prompt\n",
    "We can use a *prompt* to tell the language model how to answer.\n",
    "The prompt should contain a few short, helpful instructions.\n",
    "In addition, we provide placeholders for the context.\n",
    "LangChain replaces these with the actual documents when we execute a query.\n"
   ]
  },
  {
   "cell_type": "code",
   "execution_count": 7,
   "id": "6d166216-7da7-498a-bb58-73f9ecb451ef",
   "metadata": {},
   "outputs": [],
   "source": [
    "from langchain.chains.combine_documents import create_stuff_documents_chain\n",
    "from langchain.chains.llm import LLMChain\n",
    "from langchain.prompts import PromptTemplate\n"
   ]
  },
  {
   "cell_type": "code",
   "execution_count": 13,
   "id": "e3f7e173-efe0-4241-af09-a205ea6ba274",
   "metadata": {},
   "outputs": [],
   "source": [
    "separator = '\\nYour Summary:\\n'\n",
    "prompt_template = '''Write a summary of the following:\n",
    "\n",
    "{context}\n",
    "''' + separator\n",
    "prompt = PromptTemplate(template=prompt_template,\n",
    "                        input_variables=['context'])"
   ]
  },
  {
   "cell_type": "markdown",
   "id": "03a9cdf9-4fa9-4e17-b20a-a1ef7f3445a3",
   "metadata": {},
   "source": [
    "## Create chain\n",
    "\n",
    "The document loader loads each PDF page as a separate 'document'.\n",
    "This is partly for technical reasons because that is the way PDFs are structured.\n",
    "Therefore, we use the chain called  `create_stuff_documents_chain` which joins multiple documents  into a single large document."
   ]
  },
  {
   "cell_type": "code",
   "execution_count": 14,
   "id": "1c4e44b3-2059-4a8c-860a-932d3ed1a467",
   "metadata": {},
   "outputs": [],
   "source": [
    "chain = create_stuff_documents_chain(llm, prompt)"
   ]
  },
  {
   "cell_type": "markdown",
   "id": "c2a917d7-bb6f-4e45-9f6d-2c6842598256",
   "metadata": {},
   "source": [
    "## Function to load and summarize a single document\n",
    "\n",
    "This function loads a single document and runs it through the language model to produce a summary."
   ]
  },
  {
   "cell_type": "code",
   "execution_count": 15,
   "id": "3a13ba30-5729-4551-9bf6-b88927b3251b",
   "metadata": {},
   "outputs": [],
   "source": [
    "def split_result(result):\n",
    "    \"Split the reply from the prompt, should be done with output parser?\"\n",
    "    position = result.find(separator)\n",
    "    summary = result[position + len(separator) :]\n",
    "    return summary"
   ]
  },
  {
   "cell_type": "code",
   "execution_count": 16,
   "id": "c2970f78-337e-499d-abe8-d45f3ed4ec2e",
   "metadata": {},
   "outputs": [],
   "source": [
    "from langchain_unstructured import UnstructuredLoader\n",
    "\n",
    "def summarize_document(filename):\n",
    "    print('\\n\\nProcessing file:', filename)\n",
    "    loader = UnstructuredLoader(filename)\n",
    "    docs = loader.load()\n",
    "    document_lengths = [len(doc.page_content) for doc in docs]\n",
    "    print(f'Number of documents: {len(docs)}, total length: {sum(document_lengths)}')\n",
    "    print('Maximum document length: ', max(document_lengths))\n",
    "\n",
    "    #Run chain    \n",
    "    result = chain.invoke({\"context\": docs})\n",
    "    return split_result(result)"
   ]
  },
  {
   "cell_type": "markdown",
   "id": "1a3fa297-2be5-499c-8e4f-d9777925002f",
   "metadata": {},
   "source": [
    "## Loading the Documents\n"
   ]
  },
  {
   "cell_type": "markdown",
   "id": "b58d5773-652f-4fa1-86f7-8058b62f61dd",
   "metadata": {},
   "source": [
    "We use the Python library `pathlib` to iterate over all in files in `document_folder`.\n",
    "`document_folder` is defined at the start of this  Notebook."
   ]
  },
  {
   "cell_type": "code",
   "execution_count": 17,
   "id": "b2c93ac6-1f9d-4cfb-a91d-606ff65930d0",
   "metadata": {
    "editable": true,
    "scrolled": true,
    "slideshow": {
     "slide_type": ""
    },
    "tags": [
     "remove-output"
    ]
   },
   "outputs": [
    {
     "name": "stdout",
     "output_type": "stream",
     "text": [
      "\n",
      "\n",
      "Processing file: summarizing/Grimmelmann - 2022 - Programming Languages and Law A Research Agenda.pdf\n",
      "Number of documents: 320, total length: 70316\n",
      "Maximum document length:  1213\n",
      "The article \"Programming Languages and Law: A Research Agenda\" by James Grimmelmann presents a research agenda for applying programming-language theory to law. The author argues that law and programming languages share a common focus on using precisely structured linguistic constructions to do things in the world, and that programming-language techniques can be useful in solving legal problems. The article surveys the history of research into programming languages and law, and presents ten promising avenues for future research. These include using programming languages to model legal doctrines, using legal drafting tools to improve legal drafting, using programming languages to design legal systems, and using programming languages to interpret legal texts. The article also discusses the challenges and opportunities of interdisciplinary research between law and computer science.\n",
      "\n",
      "\n",
      "Processing file: summarizing/HR-2023-93-A.pdf\n",
      "Number of documents: 311, total length: 36628\n",
      "Maximum document length:  1154\n",
      "The case involves a dispute between Frost Utvikling AS and Betonmast Innlandet AS regarding the construction of a residential building complex. The dispute centers around the forelding of a claim for damages due to defects in the building's heating system. The Høyesterett, Norway's supreme court, has reviewed the case and made the following decisions:\n",
      "\n",
      "1. The decision of the Court of Appeal is overturned.\n",
      "2. Frost Utvikling AS must pay Betonmast Innlandet AS 495,000 NOK in costs for the Supreme Court hearing.\n",
      "3. The Norwegian Building and Construction Industry (EBA) is not entitled to costs for the Supreme Court hearing.\n",
      "\n",
      "The court found that Betonmast Innlandet AS had not acknowledged their liability for the damages before the deadline for the claim to expire. Therefore, the claim is considered time-barred. The court also found that the EBA was not entitled to costs for the Supreme Court hearing as they were not a party to the dispute.\n",
      "\n",
      "\n",
      "Processing file: summarizing/HR-2023-728-A.pdf\n",
      "Number of documents: 354, total length: 37667\n",
      "Maximum document length:  937\n",
      "The case involves a dispute between two hotels, Oslo Plaza Hotel AS and Hotel Bristol AS, and their employees regarding the handling of tips received from guests. The hotels argue that they have the right to withhold a portion of the tips to cover their own costs, including employer's social security contributions and administrative costs. The employees argue that they have a right to receive the tips in full, without any deductions.\n",
      "\n",
      "The Høyesterett, Norway's Supreme Court, has ruled that the hotels do not have the right to withhold any portion of the tips to cover their own costs. The hotels have been ordered to pay their former employees a total of 996,470 NOK (approximately 90,000 USD) in compensation for the withheld tips.\n",
      "\n",
      "The court based its decision on the fact that tips are considered a gift from the guests to the employees, and that the hotels do not have the right to interfere with this gift relationship. The court also noted that the hotels' actions were in violation of the employees' right to fair wages and working conditions.\n",
      "\n",
      "The case has significant implications for the hotel industry in Norway, and may lead to changes in the way that tips are handled in the future.\n"
     ]
    }
   ],
   "source": [
    "from pathlib import Path\n",
    "\n",
    "\n",
    "directory = Path(document_folder)\n",
    "file_iterator = directory.iterdir()\n",
    "summaries  = dict()\n",
    "\n",
    "for filename in file_iterator:\n",
    "    try:\n",
    "         summary = summarize_document(filename)\n",
    "    except Exception as e:\n",
    "        print('Error:', e)\n",
    "    summaries[filename] = summary\n",
    "    #summaries.append(Document(page_content = summary))\n",
    "    \n",
    "    print(summary)"
   ]
  },
  {
   "cell_type": "code",
   "execution_count": 18,
   "id": "9ef69d3f-07cd-4d88-ba92-5d729d4f0e81",
   "metadata": {},
   "outputs": [],
   "source": [
    "with open('summaries.txt', 'w') as outfile:\n",
    "    for filename in summaries:\n",
    "        print('Summary of ', filename, file = outfile)\n",
    "        print(summaries[filename], file=outfile)\n",
    "        print(file=outfile)"
   ]
  },
  {
   "cell_type": "code",
   "execution_count": 19,
   "id": "0121d8e7-9d91-43ac-b8cb-29f7c71f9865",
   "metadata": {
    "editable": true,
    "scrolled": true,
    "slideshow": {
     "slide_type": ""
    },
    "tags": []
   },
   "outputs": [
    {
     "name": "stdout",
     "output_type": "stream",
     "text": [
      "Summary of all the summaries:\n",
      "System: Below is a list of summaries of some papers. Make a total summary all the information in all the papers:\n",
      "\n",
      "The article \"Programming Languages and Law: A Research Agenda\" by James Grimmelmann presents a research agenda for applying programming-language theory to law. The author argues that law and programming languages share a common focus on using precisely structured linguistic constructions to do things in the world, and that programming-language techniques can be useful in solving legal problems. The article surveys the history of research into programming languages and law, and presents ten promising avenues for future research. These include using programming languages to model legal doctrines, using legal drafting tools to improve legal drafting, using programming languages to design legal systems, and using programming languages to interpret legal texts. The article also discusses the challenges and opportunities of interdisciplinary research between law and computer science.\n",
      "\n",
      "The case involves a dispute between Frost Utvikling AS and Betonmast Innlandet AS regarding the construction of a residential building complex. The dispute centers around the forelding of a claim for damages due to defects in the building's heating system. The Høyesterett, Norway's supreme court, has reviewed the case and made the following decisions:\n",
      "\n",
      "1. The decision of the Court of Appeal is overturned.\n",
      "2. Frost Utvikling AS must pay Betonmast Innlandet AS 495,000 NOK in costs for the Supreme Court hearing.\n",
      "3. The Norwegian Building and Construction Industry (EBA) is not entitled to costs for the Supreme Court hearing.\n",
      "\n",
      "The court found that Betonmast Innlandet AS had not acknowledged their liability for the damages before the deadline for the claim to expire. Therefore, the claim is considered time-barred. The court also found that the EBA was not entitled to costs for the Supreme Court hearing as they were not a party to the dispute.\n",
      "\n",
      "The case involves a dispute between two hotels, Oslo Plaza Hotel AS and Hotel Bristol AS, and their employees regarding the handling of tips received from guests. The hotels argue that they have the right to withhold a portion of the tips to cover their own costs, including employer's social security contributions and administrative costs. The employees argue that they have a right to receive the tips in full, without any deductions.\n",
      "\n",
      "The Høyesterett, Norway's Supreme Court, has ruled that the hotels do not have the right to withhold any portion of the tips to cover their own costs. The hotels have been ordered to pay their former employees a total of 996,470 NOK (approximately 90,000 USD) in compensation for the withheld tips.\n",
      "\n",
      "The court based its decision on the fact that tips are considered a gift from the guests to the employees, and that the hotels do not have the right to interfere with this gift relationship. The court also noted that the hotels' actions were in violation of the employees' right to fair wages and working conditions.\n",
      "\n",
      "The case has significant implications for the hotel industry in Norway, and may lead to changes in the way that tips are handled in the future.\n",
      "\n",
      "Total Summary: The papers discuss the intersection of law and programming languages, presenting a research agenda for applying programming-language theory to law, and highlighting ten promising avenues for future research. One case involves a dispute between two companies regarding a construction defect and the forelding of a claim for damages, with the Norwegian Supreme Court ruling that the claim was time-barred and ordering one company to pay costs to the other. Another case involves a dispute between hotels and their employees regarding the handling of tips, with the Norwegian Supreme Court ruling that the hotels do not have the right to withhold any portion of the tips to cover their own costs and ordering them to pay compensation to their former employees.\n"
     ]
    }
   ],
   "source": [
    "from langchain.schema.document import Document\n",
    "from langchain.prompts import ChatPromptTemplate\n",
    "\n",
    "total_prompt = ChatPromptTemplate.from_messages(\n",
    "    [(\"system\", \"Below is a list of summaries of some papers. Make a total summary all the information in all the papers:\\n\\n{context}\\n\\nTotal Summary:\")]\n",
    ")\n",
    "total_chain = create_stuff_documents_chain(llm, total_prompt)\n",
    "total_summary = total_chain.invoke({\"context\": [Document(page_content = summary) for summary in summaries.values()]})\n",
    "\n",
    "print('Summary of all the summaries:')\n",
    "print(total_summary)\n",
    "\n",
    "#print(result)\n",
    "\n",
    "with open('total_summary.txt', 'w') as outfile:\n",
    "    print(total_summary, file=outfile)"
   ]
  }
 ],
 "metadata": {
  "kernelspec": {
   "display_name": "Python 3 (ipykernel)",
   "language": "python",
   "name": "python3"
  },
  "language_info": {
   "codemirror_mode": {
    "name": "ipython",
    "version": 3
   },
   "file_extension": ".py",
   "mimetype": "text/x-python",
   "name": "python",
   "nbconvert_exporter": "python",
   "pygments_lexer": "ipython3",
   "version": "3.12.7"
  }
 },
 "nbformat": 4,
 "nbformat_minor": 5
}
