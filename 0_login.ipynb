{
 "cells": [
  {
   "cell_type": "markdown",
   "id": "5258d4ca-6314-407b-9c4e-30f5072ec5b0",
   "metadata": {},
   "source": [
    "# Getting Started\n",
    "We will run our programs on the University of Oslo's computing platform\n",
    "[Educloud Research](https://www.uio.no/english/services/it/research/platforms/edu-researc/)\n",
    "through the service\n",
    "[Educloud On Demand](https://www.uio.no/english/services/it/research/hpc/open-on-demand/).\n",
    "Educloud On Demand runs in your web browser, and doesn't require installing any programs on your computer.\n"
   ]
  },
  {
   "cell_type": "markdown",
   "id": "4988c638-3ee6-456a-acc9-e8ec6dcdc8dc",
   "metadata": {},
   "source": [
    "## Getting Access\n",
    "Before you can log in, you must apply for membership in the Educloud project *ec443*.\n",
    "How you do that, depends on whether you have already registered an account on Educloud.\n",
    "- If you already have an Educloud account, you can apply for membership in the Educloud project *ec443*.\n",
    "Apply for membership in project *ec443* by following this guide:\n",
    "[Apply for access to an existing project in Educloud Research](https://www.uio.no/english/services/it/research/platforms/edu-research/help/apply-access-project.html).\n",
    "- If you don't already have an account on Educloud, for example through another project, you must create an account.\n",
    "Do step 1b, 2 and 3 in this guide:\n",
    "[First time setup of Educloud Research](https://www.uio.no/english/services/it/research/platforms/edu-research/help/getting-started-with-educloud.html).\n",
    "In step 1b you should apply for membership in project *ec443*.\n",
    "\n"
   ]
  },
  {
   "cell_type": "markdown",
   "id": "4da72f51-0411-453e-a372-7a6d03a7abe3",
   "metadata": {},
   "source": [
    "## Logging In\n",
    "Now, you can log in to \n",
    "[Educloud On Demand](https://ondemand.educloud.no/)\n",
    "with your Educloud username and password.\n",
    "```{note}\n",
    "Your username on Educloud is different from your regular UiO username.\n",
    "Educloud usernames always start with the three characters \"ec-\".\n",
    "Educloud also has its own, separate two-factor identification (2FA) codes.\n",
    "```\n"
   ]
  },
  {
   "cell_type": "markdown",
   "id": "2df89634-8299-4903-898e-51ae365bc39b",
   "metadata": {},
   "source": [
    "## Starting JupyterLab\n",
    "After logging in, you should see the Educloud\n",
    "[Dashboard](https://ondemand.educloud.no/pun/sys/dashboard).\n",
    "Click on \n",
    "[JupyterLab](https://ondemand.educloud.no/pun/sys/dashboard/batch_connect/sys/fox-ood-jupyter/session_contexts/new)\n",
    "on the dashboard.\n",
    "Here, you can configure your JupyterLab session.\n",
    "- In the field *\"Choose the Educloud project to run under:\"*, you should select *ec443*.\n",
    "- In the field *\"Choose resources:\"*, you should select *\"GPU (1x Nvidia A100 40GB, 24 CPU cores, 250GB RAM)\"*.\n",
    "- In the field *\"Runtime (in hours)\"* you should enter 3, for this course.\n",
    "In general, avoid reserving a GPU for longer than necessary, because GPUs are limited, shared resources.\n",
    "- In the field *\"Choose Jupyter module (required)\"* you should select *\"4.2.0-GCCcore-13.2.0\"*.\n",
    " \n",
    "The other fields should be blank.\n",
    "Now, your setup should look like the picture below.\n",
    "\n",
    "Start JupyterLab by clicking the blue \"Launch\" button at the bottom of the form.\n",
    "\n",
    "![RAG flowchart](images/JupyterLab.png)"
   ]
  }
 ],
 "metadata": {
  "kernelspec": {
   "display_name": "Python 3 (ipykernel)",
   "language": "python",
   "name": "python3"
  },
  "language_info": {
   "codemirror_mode": {
    "name": "ipython",
    "version": 3
   },
   "file_extension": ".py",
   "mimetype": "text/x-python",
   "name": "python",
   "nbconvert_exporter": "python",
   "pygments_lexer": "ipython3",
   "version": "3.12.3"
  }
 },
 "nbformat": 4,
 "nbformat_minor": 5
}
