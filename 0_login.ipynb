{
 "cells": [
  {
   "cell_type": "markdown",
   "id": "5258d4ca-6314-407b-9c4e-30f5072ec5b0",
   "metadata": {},
   "source": [
    "# Getting Started\n",
    "We will run our programs through the service\n",
    "[Educloud On Demand](https://www.uio.no/english/services/it/research/hpc/open-on-demand/).\n",
    "(Educloud On Demand is a part of on the University of Oslo's computing platform\n",
    "[Educloud Research](https://www.uio.no/english/services/it/research/platforms/edu-research/).)\n",
    "Educloud On Demand runs in your web browser, and doesn't require installing any programs on your computer.\n",
    "\n"
   ]
  },
  {
   "cell_type": "markdown",
   "id": "4988c638-3ee6-456a-acc9-e8ec6dcdc8dc",
   "metadata": {},
   "source": [
    "## Getting Access\n",
    "Before you can log in, you must apply for membership in the Educloud project *ec443*.\n",
    "How you do that, depends on whether you have already registered an account on Educloud.\n",
    "- If you already have an Educloud account, you can apply for membership in the Educloud project *ec443*.\n",
    "Apply for membership in project *ec443* by following this guide:\n",
    "[Apply for access to an existing project in Educloud Research](https://www.uio.no/english/services/it/research/platforms/edu-research/help/apply-access-project.html).\n",
    "- If you don't already have an account on Educloud, for example through another project, you must create an account.\n",
    "Do step 1b, 2 and 3 in this guide:\n",
    "[First time setup of Educloud Research](https://www.uio.no/english/services/it/research/platforms/edu-research/help/getting-started-with-educloud.html).\n",
    "In step 1b you should apply for membership in project *ec443*.\n",
    "\n"
   ]
  },
  {
   "cell_type": "markdown",
   "id": "4da72f51-0411-453e-a372-7a6d03a7abe3",
   "metadata": {},
   "source": [
    "## Logging In\n",
    "Now, you can log in to \n",
    "[Educloud On Demand](https://ondemand.educloud.no/)\n",
    "with your Educloud username and password.\n",
    "```{note}\n",
    "Your username on Educloud is different from your regular UiO username.\n",
    "Educloud usernames always start with the three characters \"ec-\".\n",
    "Educloud also has its own, separate two-factor identification (2FA) codes.\n",
    "```\n"
   ]
  },
  {
   "cell_type": "markdown",
   "id": "2df89634-8299-4903-898e-51ae365bc39b",
   "metadata": {},
   "source": [
    "## Starting JupyterLab\n",
    "After logging in, you should see the \n",
    "[Educloud Dashboard](https://ondemand.educloud.no/pun/sys/dashboard).\n",
    "Click on \n",
    "[JupyterLab](https://ondemand.educloud.no/pun/sys/dashboard/batch_connect/sys/fox-ood-jupyter/session_contexts/new)\n",
    "on the dashboard.\n",
    "Here, you can configure your JupyterLab session.\n",
    "- In the field *\"Choose the Educloud project to run under:\"*, you should select *ec443*.\n",
    "- In the field *\"Choose resources:\"*, you should select *\"GPU (1x Nvidia A100 40GB, 24 CPU cores, 250GB RAM)\"*.\n",
    "- In the field *\"Runtime (in hours)\"* you should enter 3, for this course.\n",
    "In general, avoid reserving a GPU for longer than necessary, because GPUs are limited, shared resources.\n",
    "- In the field *\"Choose Jupyter module (required)\"* you should select *\"4.0.5-GCCcore-12.3.0\"*.\n",
    " \n",
    "The other fields should be blank.\n",
    "Now, your setup should look like the picture below.\n",
    "\n",
    "![JupyterLab screenshot](images/JupyterLab-12.3.png)\n",
    "\n",
    "Start JupyterLab by clicking the blue \"Launch\" button at the bottom of the form.\n",
    "This creates a *job* that is sent to the job *queue*.\n",
    "When the necessary resources are available your job starts.\n",
    "\n",
    "When the job has started, click the blue button \"Connect to Jupyter\" to open JupyterLab."
   ]
  },
  {
   "cell_type": "markdown",
   "id": "3e283a81-df63-4fa7-bb15-2c2cc43727bc",
   "metadata": {},
   "source": [
    ":::{dropdown} Optional OCR Support\n",
    "Optionally, you can enable support for [Optical Character Recognition](https://en.wikipedia.org/wiki/Optical_character_recognition) (OCR).\n",
    "OCR lets you convert images to text.\n",
    "Load the module `tesseract/5.3.4-GCCcore-12.3.0` by adding it to the field \"*Additional modules*\".\n",
    "\n",
    "![Tesseract screenshot](images/JupyterLab-Tesseract.png)\n",
    ":::"
   ]
  },
  {
   "cell_type": "markdown",
   "id": "3fd0a376-561e-4953-9877-b70aeb1c2842",
   "metadata": {},
   "source": [
    "## Exercises"
   ]
  },
  {
   "cell_type": "markdown",
   "id": "be05b9b8-9081-44af-a3da-59acb2b369d5",
   "metadata": {},
   "source": [
    "(documents_exercise)=\n",
    "```{admonition} Exercise 1\n",
    ":class: tip\n",
    "\n",
    "You will need a folder to store documents on Educloud.\n",
    "When you open JupyterLab, you get the File Browser in the left column.\n",
    "This is your home directory, where you can store your own files.\n",
    "If you don't already have a folder called \"documents\", create one.\n",
    "To create a new folder, click the gray \"New Folder\" button in the top menu.\n",
    "A new folder appears in the list, with a suggested name like \"Untitled Folder\".\n",
    "Write \"documents\" instead of \"Untitled Folder\" and press the *Enter* key on your keyboard to save.\n",
    "```"
   ]
  },
  {
   "cell_type": "markdown",
   "id": "6c3c80ce-a03e-4176-9b82-060414fd15e7",
   "metadata": {},
   "source": [
    "```{admonition} Exercise 2\n",
    ":class: tip\n",
    "\n",
    "You can upload some documents that you want to work with on Fox.\n",
    "For now, you should avoid uploading documents that contain sensitive data. \n",
    "We recommend testing with public documents containing only\n",
    "[green data](https://www.uio.no/english/services/it/security/lsis/data-classes.html).\n",
    "\n",
    "Click on the \"documents\" folder that you created in your home directory in the previous exercise.\n",
    "Click on the blue \"Upload\" button in the top menu.\n",
    "Then, click on \"browse files\" and select a couple of files upload.\n",
    "Finally, click on the green \"Upload x files\" button in the bottom left corner.\n",
    "\n",
    "```"
   ]
  }
 ],
 "metadata": {
  "kernelspec": {
   "display_name": "Python 3 (ipykernel)",
   "language": "python",
   "name": "python3"
  },
  "language_info": {
   "codemirror_mode": {
    "name": "ipython",
    "version": 3
   },
   "file_extension": ".py",
   "mimetype": "text/x-python",
   "name": "python",
   "nbconvert_exporter": "python",
   "pygments_lexer": "ipython3",
   "version": "3.11.5"
  }
 },
 "nbformat": 4,
 "nbformat_minor": 5
}
