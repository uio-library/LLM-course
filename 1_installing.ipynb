{
 "cells": [
  {
   "cell_type": "markdown",
   "id": "f1b0f5c9-8070-44b8-b1ea-c0a337d373ce",
   "metadata": {
    "editable": true,
    "slideshow": {
     "slide_type": ""
    },
    "tags": []
   },
   "source": [
    "# Installing Software\n",
    "\n",
    "We'll use [LangChain](https://www.langchain.com/), an open-source library for making applications with LLMs.\n",
    "We'll use models from [HuggingFace](https://huggingface.co/), a website that has tools and models for machine learning.\n"
   ]
  },
  {
   "cell_type": "markdown",
   "id": "9766d8e3-b051-4ba4-8625-a1b8c70976a7",
   "metadata": {},
   "source": [
    ":::{admonition} Exercise: Create new notebook\n",
    ":class: tip\n",
    "\n",
    "Create a new Jupyter Notebook called `installing` by clicking the *File*-menu in JupyterLab, and then *New* and *Notebook*.\n",
    "If you are asked to select a kernel, choose *\"Python 3\"*.\n",
    "Give the new notebook a name by clicking the *File*-menu in JupyterLab and then clicking *Rename Notebook*.\r",
    "Use the name `installing`.\n",
    "\n",
    ":::"
   ]
  },
  {
   "cell_type": "markdown",
   "id": "31d55172-aa7b-447a-b95f-515a3c6b3319",
   "metadata": {},
   "source": [
    ":::{admonition} Virtual Environments\n",
    ":class: warning\n",
    "\n",
    "If you usually work with\n",
    "[virtual environments](https://docs.python.org/3/library/venv.html)\n",
    "on Fox, you should setup and activate a virtual environment before you continue, see {ref}`venv`.\n",
    "If you haven't heard of virtual environments, you can continue without using virtual environments.\n",
    "\n",
    ":::"
   ]
  },
  {
   "cell_type": "markdown",
   "id": "264626d1-f274-4f8a-87cf-2b4aee33e0fa",
   "metadata": {},
   "source": [
    "## Python Packages\n",
    "\n",
    "We will use the python package manager `pip` for installing software.\n",
    "`pip` installs software from the [Python Package Index](https://pypi.org/).\n",
    "First, we update `pip` to the newest version:\n"
   ]
  },
  {
   "cell_type": "code",
   "execution_count": null,
   "id": "1da25d04-57cd-46b2-b8a9-415182f6fbe5",
   "metadata": {
    "editable": true,
    "scrolled": true,
    "slideshow": {
     "slide_type": ""
    },
    "tags": [
     "remove-output"
    ]
   },
   "outputs": [],
   "source": [
    "pip install --upgrade pip"
   ]
  },
  {
   "cell_type": "markdown",
   "id": "30001102-477e-4f38-9b7e-f1b8db1c9e77",
   "metadata": {
    "editable": true,
    "slideshow": {
     "slide_type": ""
    },
    "tags": []
   },
   "source": [
    "## General LLM Software\n",
    "We will install LangChain and HuggingFace software first.\n",
    "We use `huggingface-hub` to automatically download models when required."
   ]
  },
  {
   "cell_type": "code",
   "execution_count": null,
   "id": "bb6fbe6b-deca-4f06-9aef-59a4a709650d",
   "metadata": {
    "editable": true,
    "scrolled": true,
    "slideshow": {
     "slide_type": ""
    },
    "tags": [
     "remove-output"
    ]
   },
   "outputs": [],
   "source": [
    "pip install --upgrade huggingface-hub httpx"
   ]
  },
  {
   "cell_type": "markdown",
   "id": "b165deed-c0a1-481e-b00e-8103d1a983c0",
   "metadata": {},
   "source": [
    "We need several packages for working with LangChain and HuggingFace."
   ]
  },
  {
   "cell_type": "code",
   "execution_count": null,
   "id": "6854be90-e8b4-4718-af3e-11d2aa1a8f7a",
   "metadata": {
    "editable": true,
    "scrolled": true,
    "slideshow": {
     "slide_type": ""
    },
    "tags": [
     "remove-output"
    ]
   },
   "outputs": [],
   "source": [
    "pip install --upgrade langchain langchain-community langchain-huggingface"
   ]
  },
  {
   "cell_type": "markdown",
   "id": "8ab70c97-7dc9-4874-8c77-1bd7b38175de",
   "metadata": {
    "editable": true,
    "slideshow": {
     "slide_type": ""
    },
    "tags": []
   },
   "source": [
    "Transformers is the basic technology used in large language models,\n",
    "so we install the library `sentence-transformers`."
   ]
  },
  {
   "cell_type": "code",
   "execution_count": null,
   "id": "fe793f51-8b52-4e5a-a1de-433ce2bb9324",
   "metadata": {
    "editable": true,
    "scrolled": true,
    "slideshow": {
     "slide_type": ""
    },
    "tags": [
     "remove-output"
    ]
   },
   "outputs": [],
   "source": [
    "pip install --upgrade sentence-transformers"
   ]
  },
  {
   "cell_type": "markdown",
   "id": "93d5a350-884a-4b52-913c-340fdaba211d",
   "metadata": {
    "editable": true,
    "slideshow": {
     "slide_type": ""
    },
    "tags": []
   },
   "source": [
    "Some models use the `sentencepiece` library, so we will install that as well."
   ]
  },
  {
   "cell_type": "code",
   "execution_count": null,
   "id": "e6240bc5-3823-4adb-9fcf-3cc15087f016",
   "metadata": {
    "editable": true,
    "scrolled": true,
    "slideshow": {
     "slide_type": ""
    },
    "tags": [
     "remove-output"
    ]
   },
   "outputs": [],
   "source": [
    "pip install --upgrade sentencepiece"
   ]
  },
  {
   "cell_type": "markdown",
   "id": "4c732dd7-6202-436a-9aa5-e84cd1266f51",
   "metadata": {},
   "source": [
    "##  Software for Reading Text Documents\n",
    "We will use [unstructured](https://unstructured.io/) for reading documents. Unstructured supports different document formats, like PDFs, Word files and plain text documents."
   ]
  },
  {
   "cell_type": "code",
   "execution_count": null,
   "id": "d259d478-21b2-4d61-9fbb-4fc4070d5874",
   "metadata": {
    "editable": true,
    "scrolled": true,
    "slideshow": {
     "slide_type": ""
    },
    "tags": [
     "remove-output"
    ]
   },
   "outputs": [],
   "source": [
    "pip install --upgrade unstructured[all-docs] langchain-unstructured"
   ]
  },
  {
   "cell_type": "markdown",
   "id": "436c13af-d471-4de3-a415-57d83c60ac67",
   "metadata": {},
   "source": [
    "## Search Index\n",
    "For the [RAG chapter](RAG) we will use [FAISS](https://faiss.ai/) to search for documents."
   ]
  },
  {
   "cell_type": "code",
   "execution_count": null,
   "id": "40a25453-ea0b-40d4-8f68-5a6337a4bd41",
   "metadata": {
    "editable": true,
    "scrolled": true,
    "slideshow": {
     "slide_type": ""
    },
    "tags": [
     "remove-output"
    ]
   },
   "outputs": [],
   "source": [
    "pip install --upgrade faiss-cpu"
   ]
  },
  {
   "cell_type": "markdown",
   "id": "5ffd6342-35c2-415b-b4c9-b0f69fad3896",
   "metadata": {
    "editable": true,
    "slideshow": {
     "slide_type": ""
    },
    "tags": []
   },
   "source": [
    "## The Language Model\n",
    "We'll use models from [HuggingFace](https://huggingface.co/), a website that has tools and models for machine learning.\n",
    "Many models are suitable to use with a single GPU.\n",
    "We can use the open-weights models\n",
    "[mistralai/Ministral-8B-Instruct-2410](https://huggingface.co/mistralai/Ministral-8B-Instruct-2410)\n",
    "or\n",
    "[meta-llama/Llama-3.2-3B-Instruct](https://huggingface.co/meta-llama/Llama-3.2-3B-Instruct)\n",
    "for our tasks.\n",
    "\n",
    "Ministral-8B-Instruct-2410 has 8 billion parameters.\n",
    "For comparison, one of the largest LLMs at the time of writing is Llama 3.1, with 405 billion parameters.\n",
    "Still, Ministral-8B-Instruct-2410 is around 16 GB, which makes it a quite large model.\n",
    "To run it, we must have a GPU with at least 20 GB memory.\n",
    "However, we must also have some GPU memory free for processing data.\n",
    "Therefore, practical use of Ministral-8B-Instruct-2410 might require a GPU with 40 GB memory.\n",
    "\n",
    "The models can also be run without a GPU, but that will be much slower."
   ]
  },
  {
   "cell_type": "markdown",
   "id": "5a7c8539-c26a-4af9-8da2-fc34c94f6dd8",
   "metadata": {
    "editable": true,
    "slideshow": {
     "slide_type": ""
    },
    "tags": []
   },
   "source": [
    "### Model Location\n",
    "We should tell the HuggingFace library where to store its data.\n",
    "If you're running on Educloud/Fox project ec443 the model is stored at the path below.\n",
    "If you're running on your own computer, you probably don't need to specify the model location."
   ]
  },
  {
   "cell_type": "code",
   "execution_count": null,
   "id": "4fd3957e-3969-426b-b500-aa32d06e0b10",
   "metadata": {
    "editable": true,
    "slideshow": {
     "slide_type": ""
    },
    "tags": [
     "remove-output"
    ]
   },
   "outputs": [],
   "source": [
    "import os\n",
    "os.environ['HF_HOME'] = '/fp/projects01/ec443/huggingface/cache/'"
   ]
  },
  {
   "cell_type": "markdown",
   "id": "4bd74d3d-d6b3-422e-ba7f-160036830e38",
   "metadata": {},
   "source": [
    "```{admonition} Optional\n",
    "\n",
    "If you're running one of the models that is *already downloaded* Educloud/Fox project ec443 the model, you can skip this step.\n",
    "If you're not running on Educloud/Fox project ec443 or want to use a model that isn't already downloaded, you'll need to download the model.\n",
    "\n",
    "You will need a *User Access Token* from HuggingFace.\n",
    "If you don't already have  a user account on HuggingFace, you must first sign up for one.\n",
    "Click the button  \"Sign Up\"  in the upper right corner on \n",
    "[HuggingFace](https://huggingface.co/).\n",
    "\n",
    "When you have logged in to HuggingFace with your user account, \n",
    "you can create a \n",
    "[User Access Token](https://huggingface.co/settings/tokens)\n",
    "giving *read* access\n",
    "by following this [guide](https://huggingface.co/docs/hub/en/security-tokens).\n",
    "\n",
    "    from huggingface_hub import login\n",
    "    login()\n",
    "\n",
    "```"
   ]
  },
  {
   "cell_type": "markdown",
   "id": "19563c31-084f-4726-a177-ebd2cc09b951",
   "metadata": {},
   "source": [
    "(venv)=\n",
    "## Bonus: Virtual Environments\n",
    "By default, the `pip` command installs Python modules or libraries in your user profile, in your *default* Python environment.\n",
    "If you use Python for different projects with different libraries, it might happen that your projects require different versions of *the same* library.\n",
    "Python supports switching between different versions of *the same* library with *virtual environments*.\n",
    "You can create a virtual environment for each of your projects.\n",
    "Then, you install all the libraries related to a particular project in the virtual environment for that project.\n",
    "The virtual environment is often stored in the project folder in a folder called `.venv`."
   ]
  },
  {
   "cell_type": "markdown",
   "id": "4b3e998f-b794-4aa2-8625-8e2dde60af6a",
   "metadata": {},
   "source": [
    "### Creating a virtual environment\n",
    "Let's create a virtual environment for running large language models.\n",
    "There are several ways of doing this, but we recommend using python's built-in `venv` command."
   ]
  },
  {
   "cell_type": "code",
   "execution_count": null,
   "id": "e6805ec1-0532-4d0b-b256-2ebe4ef7889a",
   "metadata": {},
   "outputs": [],
   "source": [
    "!python -m venv .venv"
   ]
  },
  {
   "cell_type": "markdown",
   "id": "3292803f-4750-4cc8-8432-ff632f621c84",
   "metadata": {},
   "source": [
    "### Activating the environment\n",
    "To *activate* the virtual environment on the command prompt you can use an activation script:\n",
    "\n",
    "    source .venv/bin/activate\n"
   ]
  },
  {
   "cell_type": "markdown",
   "id": "07e29ca3-4d5e-409a-baeb-6e3fffa56f1d",
   "metadata": {},
   "source": [
    "### JupyterLab kernel for the environment\n",
    "To use the virtual environment in JupyterLab, we must define a *kernel* for that environment."
   ]
  },
  {
   "cell_type": "code",
   "execution_count": null,
   "id": "df47e889-d0b6-4c85-8754-fefcc97308a0",
   "metadata": {},
   "outputs": [],
   "source": [
    "! .venv/bin/python -m ipykernel install --user --name LLM --display-name \"Python (LLM)\""
   ]
  }
 ],
 "metadata": {
  "kernelspec": {
   "display_name": "Python (LLM)",
   "language": "python",
   "name": "llm"
  },
  "language_info": {
   "codemirror_mode": {
    "name": "ipython",
    "version": 3
   },
   "file_extension": ".py",
   "mimetype": "text/x-python",
   "name": "python",
   "nbconvert_exporter": "python",
   "pygments_lexer": "ipython3",
   "version": "3.11.5"
  }
 },
 "nbformat": 4,
 "nbformat_minor": 5
}
