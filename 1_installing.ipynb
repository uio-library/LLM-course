{
 "cells": [
  {
   "cell_type": "markdown",
   "id": "f1b0f5c9-8070-44b8-b1ea-c0a337d373ce",
   "metadata": {
    "editable": true,
    "slideshow": {
     "slide_type": ""
    },
    "tags": []
   },
   "source": [
    "# Installing Software\n",
    "\n",
    "We will use [LangChain](https://www.langchain.com/), an open-source library for making applications with LLMs.\n"
   ]
  },
  {
   "cell_type": "markdown",
   "id": "198a041d",
   "metadata": {},
   "source": [
    "## Installing Software\n",
    "We’ll need to install some libraries first:"
   ]
  },
  {
   "cell_type": "code",
   "execution_count": null,
   "id": "c2657ee1-097c-467a-b5e0-ccc67eb3e542",
   "metadata": {
    "editable": true,
    "scrolled": true,
    "slideshow": {
     "slide_type": ""
    },
    "tags": [
     "remove-output"
    ]
   },
   "outputs": [],
   "source": [
    "!pip install --upgrade huggingface-hub langchain langchain-community sentence-transformers sentencepiece"
   ]
  },
  {
   "cell_type": "markdown",
   "id": "62855d10-417b-4648-a14e-f5512c1f4f18",
   "metadata": {
    "editable": true,
    "slideshow": {
     "slide_type": ""
    },
    "tags": []
   },
   "source": [
    "## The Language Model\n",
    "We’ll use models from [HuggingFace](https://huggingface.co/), a website that has tools and models for machine learning.\n",
    "We’ll use the open-source LLM [mistralai/Mistral-Nemo-Instruct-2407]( https://huggingface.co/mistralai/Mistral-Nemo-Instruct-2407).\n",
    "This model has 12 billion parameters.\n",
    "For comparison, one of the largest LLMs at the time of writing is Llama 3.1, with 405 billion parameters.\n",
    "Still, Mistral-Nemo-Instruct is around 25 GB, which makes it a quite large model.\n",
    "To run it, we must have a GPU with at least 25 GB memory.\n",
    "It can also be run without a GPU, but that will be much slower.\n",
    "\n",
    "We should tell the HuggingFace library where to store its data. If you’re running on Educloud/Fox project ec443 the model is stored at the path below."
   ]
  },
  {
   "cell_type": "code",
   "execution_count": null,
   "id": "dfb96fff-c25b-4d19-a6b5-83b247d6591c",
   "metadata": {
    "editable": true,
    "slideshow": {
     "slide_type": ""
    },
    "tags": [
     "remove-output"
    ]
   },
   "outputs": [],
   "source": [
    "%env HF_HOME=/fp/projects01/ec443/huggingface/cache/"
   ]
  },
  {
   "cell_type": "markdown",
   "id": "4bd74d3d-d6b3-422e-ba7f-160036830e38",
   "metadata": {},
   "source": [
    "If you’re not running on Educloud/Fox project ec443 you’ll need to download the model.\n",
    "Even though the model Mistral-Nemo-Instruct-2407 is open source, we must log in to HuggingFace to download it.\n",
    "If you’re running on Educloud/Fox project ec443 the model is *already downloaded*, so you can skip this step."
   ]
  },
  {
   "cell_type": "code",
   "execution_count": null,
   "id": "40a0f096-4213-4fad-8930-efb3b2a74c54",
   "metadata": {
    "editable": true,
    "slideshow": {
     "slide_type": ""
    },
    "tags": [
     "remove-output"
    ]
   },
   "outputs": [],
   "source": [
    "from huggingface_hub import login\n",
    "login()"
   ]
  }
 ],
 "metadata": {
  "kernelspec": {
   "display_name": "Python 3 (ipykernel)",
   "language": "python",
   "name": "python3"
  },
  "language_info": {
   "codemirror_mode": {
    "name": "ipython",
    "version": 3
   },
   "file_extension": ".py",
   "mimetype": "text/x-python",
   "name": "python",
   "nbconvert_exporter": "python",
   "pygments_lexer": "ipython3",
   "version": "3.11.5"
  }
 },
 "nbformat": 4,
 "nbformat_minor": 5
}
